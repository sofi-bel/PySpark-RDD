{
 "cells": [
  {
   "cell_type": "code",
   "execution_count": 11,
   "metadata": {},
   "outputs": [],
   "source": [
    "from pyspark.sql import *\n",
    "from collections import defaultdict\n",
    "from itertools import combinations\n",
    "import math"
   ]
  },
  {
   "cell_type": "code",
   "execution_count": 2,
   "metadata": {},
   "outputs": [
    {
     "name": "stderr",
     "output_type": "stream",
     "text": [
      "23/05/16 09:33:21 WARN Utils: Your hostname, MacBook-Pro-Sofi.local resolves to a loopback address: 127.0.0.1; using 109.123.185.23 instead (on interface en6)\n",
      "23/05/16 09:33:21 WARN Utils: Set SPARK_LOCAL_IP if you need to bind to another address\n",
      "WARNING: An illegal reflective access operation has occurred\n",
      "WARNING: Illegal reflective access by org.apache.spark.unsafe.Platform (file:/Users/sofi/anaconda3/envs/pyspark_env/lib/python3.10/site-packages/pyspark/jars/spark-unsafe_2.12-3.2.1.jar) to constructor java.nio.DirectByteBuffer(long,int)\n",
      "WARNING: Please consider reporting this to the maintainers of org.apache.spark.unsafe.Platform\n",
      "WARNING: Use --illegal-access=warn to enable warnings of further illegal reflective access operations\n",
      "WARNING: All illegal access operations will be denied in a future release\n",
      "Using Spark's default log4j profile: org/apache/spark/log4j-defaults.properties\n",
      "Setting default log level to \"WARN\".\n",
      "To adjust logging level use sc.setLogLevel(newLevel). For SparkR, use setLogLevel(newLevel).\n",
      "23/05/16 09:33:22 WARN NativeCodeLoader: Unable to load native-hadoop library for your platform... using builtin-java classes where applicable\n"
     ]
    }
   ],
   "source": [
    "spark = SparkSession.builder.master('local[*]').getOrCreate()"
   ]
  },
  {
   "cell_type": "code",
   "execution_count": 3,
   "metadata": {},
   "outputs": [
    {
     "name": "stderr",
     "output_type": "stream",
     "text": [
      "                                                                                \r"
     ]
    }
   ],
   "source": [
    "data = spark.read.csv('Datasets/FIFA.csv', sep=',', header=True, inferSchema=True, multiLine=True, escape='\"')"
   ]
  },
  {
   "cell_type": "code",
   "execution_count": 4,
   "metadata": {},
   "outputs": [],
   "source": [
    "rdd = data.rdd"
   ]
  },
  {
   "cell_type": "code",
   "execution_count": 5,
   "metadata": {},
   "outputs": [
    {
     "name": "stderr",
     "output_type": "stream",
     "text": [
      "[Stage 2:>                                                          (0 + 1) / 1]\r"
     ]
    },
    {
     "name": "stdout",
     "output_type": "stream",
     "text": [
      "[('fifaworldcup', 91122), ('khaledbeydoun', 17507), ('weareoneexo', 14974), ('hns_cff', 11836), ('paulpogba', 11465)]\n"
     ]
    },
    {
     "name": "stderr",
     "output_type": "stream",
     "text": [
      "                                                                                \r"
     ]
    }
   ],
   "source": [
    "top_users = (\n",
    "    rdd.filter(lambda x: x.UserMentionID is not None)\n",
    "    .flatMap(lambda x: x.UserMentionID.lower().split(',')) \n",
    "    .map(lambda x: (x, 1)) \n",
    "    .reduceByKey(lambda x, y: x + y) \n",
    "    .top(5, key=lambda x: x[1])  \n",
    ")\n",
    "print(top_users)\n",
    "\n"
   ]
  },
  {
   "cell_type": "code",
   "execution_count": 6,
   "metadata": {},
   "outputs": [
    {
     "name": "stderr",
     "output_type": "stream",
     "text": [
      "                                                                                \r"
     ]
    },
    {
     "name": "stdout",
     "output_type": "stream",
     "text": [
      "('fifaworldcup', [('worldcup', 77249), ('fra', 24828), ('fifastadiumdj', 13563), ('worldcupfinal', 13551), ('fracro', 9147), ('cro', 8565), ('powerbyexo', 7325), ('bel', 6449), ('frabel', 5927), ('exo', 4679)])\n"
     ]
    },
    {
     "name": "stderr",
     "output_type": "stream",
     "text": [
      "                                                                                \r"
     ]
    },
    {
     "name": "stdout",
     "output_type": "stream",
     "text": [
      "('khaledbeydoun', [('worldcup', 17432), ('france', 76), ('belgium', 12), ('fra', 2), ('african', 1), ('sports', 1), ('arts', 1), ('music', 1), ('technology', 1), ('ideas', 1)])\n"
     ]
    },
    {
     "name": "stderr",
     "output_type": "stream",
     "text": [
      "                                                                                \r"
     ]
    },
    {
     "name": "stdout",
     "output_type": "stream",
     "text": [
      "('weareoneexo', [('worldcup', 11366), ('fifastadiumdj', 10516), ('powerbyexo', 7217), ('exo', 5037), ('??', 2910), ('dafbama2018exo', 1148), ('power', 585), ('copa2018', 547), ('chanyeolleague', 365), ('layleague', 358)])\n"
     ]
    },
    {
     "name": "stderr",
     "output_type": "stream",
     "text": [
      "                                                                                \r"
     ]
    },
    {
     "name": "stdout",
     "output_type": "stream",
     "text": [
      "('hns_cff', [('worldcup', 10094), ('cro', 8429), ('croeng', 2363), ('beproud', 1837), ('family', 1489), ('vatreni', 1472), ('croden', 1231), ('flamingpride', 886), ('croatia', 844), ('worldcupfinal', 788)])\n"
     ]
    },
    {
     "name": "stderr",
     "output_type": "stream",
     "text": [
      "[Stage 12:>                                                         (0 + 1) / 1]\r"
     ]
    },
    {
     "name": "stdout",
     "output_type": "stream",
     "text": [
      "('paulpogba', [('worldcup', 11327), ('fra', 2900), ('heretocreate', 2438), ('cro', 621), ('bel', 594), ('mufc', 187), ('fraarg', 129), ('worldcupfinal', 108), ('u18pl', 87), ('arg', 76)])\n",
      "<class 'list'>\n",
      "[('fifaworldcup', [('worldcup', 77249), ('fra', 24828), ('fifastadiumdj', 13563), ('worldcupfinal', 13551), ('fracro', 9147), ('cro', 8565), ('powerbyexo', 7325), ('bel', 6449), ('frabel', 5927), ('exo', 4679)]), ('khaledbeydoun', [('worldcup', 17432), ('france', 76), ('belgium', 12), ('fra', 2), ('african', 1), ('sports', 1), ('arts', 1), ('music', 1), ('technology', 1), ('ideas', 1)]), ('weareoneexo', [('worldcup', 11366), ('fifastadiumdj', 10516), ('powerbyexo', 7217), ('exo', 5037), ('??', 2910), ('dafbama2018exo', 1148), ('power', 585), ('copa2018', 547), ('chanyeolleague', 365), ('layleague', 358)]), ('hns_cff', [('worldcup', 10094), ('cro', 8429), ('croeng', 2363), ('beproud', 1837), ('family', 1489), ('vatreni', 1472), ('croden', 1231), ('flamingpride', 886), ('croatia', 844), ('worldcupfinal', 788)]), ('paulpogba', [('worldcup', 11327), ('fra', 2900), ('heretocreate', 2438), ('cro', 621), ('bel', 594), ('mufc', 187), ('fraarg', 129), ('worldcupfinal', 108), ('u18pl', 87), ('arg', 76)])]\n"
     ]
    },
    {
     "name": "stderr",
     "output_type": "stream",
     "text": [
      "                                                                                \r"
     ]
    }
   ],
   "source": [
    "users_tags = []\n",
    "for user, _ in top_users:\n",
    "    tweets_from_user = rdd.filter(lambda x: x.UserMentionID is not None and user in x.UserMentionID.lower().split(','))\n",
    "    tags_from_user = tweets_from_user.flatMap(lambda x: x.Hashtags.lower().split(',') if x.Hashtags is not None else [])\n",
    "    tags_from_user = tags_from_user.map(lambda x: (x, 1)).reduceByKey(lambda x, y: x + y)\n",
    "    top_tags = tags_from_user.top(10, key=lambda x: x[1])\n",
    "    users_tags.append((user, top_tags))\n",
    "    print((user, top_tags))\n",
    "\n",
    "print(type(users_tags))\n",
    "print(users_tags)"
   ]
  },
  {
   "cell_type": "code",
   "execution_count": 7,
   "metadata": {},
   "outputs": [
    {
     "name": "stdout",
     "output_type": "stream",
     "text": [
      "khaledbeydoun {'belgium', 'ideas', 'music', 'technology', 'worldcup', 'france', 'arts', 'sports', 'african', 'fra'}\n"
     ]
    }
   ],
   "source": [
    "tag_sets = [set(map(lambda x: x[0], tags)) for _, tags in users_tags]\n",
    "most_different_user = None\n",
    "most_different_tags = None\n",
    "most_different_score = 0\n",
    "\n",
    "for i, tag_set in enumerate(tag_sets):\n",
    "    score = sum(len(tag_set.symmetric_difference(other_tag_set)) for j, other_tag_set in enumerate(tag_sets) if i != j)\n",
    "    if score > most_different_score:\n",
    "        most_different_user = top_users[i][0]\n",
    "        most_different_tags = tag_set\n",
    "        most_different_score = score\n",
    "\n",
    "print(most_different_user, most_different_tags)\n"
   ]
  },
  {
   "cell_type": "code",
   "execution_count": 12,
   "metadata": {},
   "outputs": [
    {
     "name": "stderr",
     "output_type": "stream",
     "text": [
      "                                                                                \r"
     ]
    },
    {
     "name": "stdout",
     "output_type": "stream",
     "text": [
      "khaledbeydoun\n",
      "paulpogba\n",
      "7235.007532822616\n"
     ]
    }
   ],
   "source": [
    "users = set()\n",
    "tags = set()\n",
    "\n",
    "for user, user_tags in users_tags:\n",
    "    users.update([user])\n",
    "    user_tags = set(map(lambda x: x[0], user_tags))\n",
    "    tags.update(user_tags)\n",
    "\n",
    "users = list(users)\n",
    "tags = list(tags)\n",
    "\n",
    "dict_users_tags = {user: defaultdict(int) for user in users}\n",
    "\n",
    "def update_dict_users_tags(row, dict_users_tags, users, tags):\n",
    "    if row.UserMentionID is None or row.Hashtags is None:\n",
    "        return\n",
    "    for user in row.UserMentionID.lower().split(','):\n",
    "        if user not in users:\n",
    "            continue\n",
    "        for tag in row.Hashtags.lower().split(','):\n",
    "            if tag not in tags:\n",
    "                continue\n",
    "            dict_users_tags[user][tag] += 1\n",
    "\n",
    "\n",
    "for _, row in data.toPandas().iterrows():\n",
    "    update_dict_users_tags(row, dict_users_tags, users, tags)\n",
    "\n",
    "min_user_1 = None\n",
    "min_user_2 = None\n",
    "min_dist = math.inf\n",
    "\n",
    "for user_1, user_2 in combinations(users, 2):\n",
    "    dist = sum((dict_users_tags[user_1][tag] - dict_users_tags[user_2][tag]) ** 2 for tag in tags)\n",
    "    dist = math.sqrt(dist)\n",
    "\n",
    "    if dist < min_dist:\n",
    "        min_dist = dist\n",
    "        min_user_1 = user_1\n",
    "        min_user_2 = user_2\n",
    "\n",
    "print(min_user_1)\n",
    "print(min_user_2)\n",
    "print(min_dist)"
   ]
  }
 ],
 "metadata": {
  "kernelspec": {
   "display_name": "pyspark_env",
   "language": "python",
   "name": "python3"
  },
  "language_info": {
   "codemirror_mode": {
    "name": "ipython",
    "version": 3
   },
   "file_extension": ".py",
   "mimetype": "text/x-python",
   "name": "python",
   "nbconvert_exporter": "python",
   "pygments_lexer": "ipython3",
   "version": "3.10.11"
  },
  "orig_nbformat": 4
 },
 "nbformat": 4,
 "nbformat_minor": 2
}
